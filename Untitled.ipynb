{
 "cells": [
  {
   "cell_type": "code",
   "execution_count": null,
   "id": "2550e01d-63bb-4264-ab2c-1ce76dd22704",
   "metadata": {},
   "outputs": [],
   "source": [
    "import praw\n",
    "from vaderSentiment.vaderSentiment import SentimentIntensityAnalyzer\n",
    "import alpaca_trade_api\n",
    "import pandas\n",
    "from datetime import datetime, timedelta\n",
    "import time\n",
    "import re"
   ]
  },
  {
   "cell_type": "code",
   "execution_count": null,
   "id": "03bf811f-3453-47df-953b-e6c1d60dfff3",
   "metadata": {},
   "outputs": [],
   "source": [
    "# Initialize Reddit API\n",
    "reddit = praw.Reddit(\n",
    "    client_id=REDDIT_CLIENT_ID,\n",
    "    client_secret=REDDIT_CLIENT_SECRET,\n",
    "    user_agent=REDDIT_USER_AGENT\n",
    ")\n",
    "\n",
    "# Initialize Alpaca API\n",
    "alpaca = alpaca_trade_api.REST(ALPACA_API_KEY, ALPACA_API_SECRET, ALPACA_BASE_URL, api_version='v2')"
   ]
  },
  {
   "cell_type": "code",
   "execution_count": null,
   "id": "7e00f416-7041-482e-bcc3-27e2429f6412",
   "metadata": {},
   "outputs": [],
   "source": [
    "# Function to get sentiment from r/WallStreetBets\n",
    "def get_reddit_sentiment(subreddit='wallstreetbets', hours=24, limit=100):\n",
    "    subreddit = reddit.subreddit(subreddit)\n",
    "    posts = subreddit.hot(limit=limit)\n",
    "    sentiment_scores = {}\n",
    "    post_count = {}\n",
    "\n",
    "    # Time filter: only posts from the last `hours`\n",
    "    time_threshold = datetime.utcnow() - timedelta(hours=hours)\n",
    "\n",
    "    for post in posts:\n",
    "        post_time = datetime.fromtimestamp(post.created_utc)\n",
    "        if post_time < time_threshold:\n",
    "            continue\n",
    "\n",
    "        # Extract stock tickers (simple regex for uppercase words, e.g., TSLA, GME)\n",
    "        text = clean_text(post.title + ' ' + post.selftext)\n",
    "        tickers = set(re.findall(r'\\b[A-Z]{2,5}\\b', text))  # Match 2-5 letter tickers\n",
    "\n",
    "        # Perform sentiment analysis\n",
    "        sentiment = analyzer.polarity_scores(text)\n",
    "        compound_score = sentiment['compound']\n",
    "\n",
    "        for ticker in tickers:\n",
    "            if ticker not in sentiment_scores:\n",
    "                sentiment_scores[ticker] = 0\n",
    "                post_count[ticker] = 0\n",
    "            sentiment_scores[ticker] += compound_score\n",
    "            post_count[ticker] += 1\n",
    "\n",
    "    # Average sentiment scores\n",
    "    avg_sentiment = {ticker: sentiment_scores[ticker] / post_count[ticker] for ticker in sentiment_scores if post_count[ticker] > 0}\n",
    "    return avg_sentiment"
   ]
  }
 ],
 "metadata": {
  "kernelspec": {
   "display_name": "Python 3 (ipykernel)",
   "language": "python",
   "name": "python3"
  },
  "language_info": {
   "codemirror_mode": {
    "name": "ipython",
    "version": 3
   },
   "file_extension": ".py",
   "mimetype": "text/x-python",
   "name": "python",
   "nbconvert_exporter": "python",
   "pygments_lexer": "ipython3",
   "version": "3.13.7"
  }
 },
 "nbformat": 4,
 "nbformat_minor": 5
}
