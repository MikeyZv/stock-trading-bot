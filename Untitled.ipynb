{
 "cells": [
  {
   "cell_type": "code",
   "execution_count": 3,
   "id": "2550e01d-63bb-4264-ab2c-1ce76dd22704",
   "metadata": {},
   "outputs": [
    {
     "name": "stderr",
     "output_type": "stream",
     "text": [
      "[nltk_data] Downloading package vader_lexicon to\n",
      "[nltk_data]     C:\\Users\\mikey\\AppData\\Roaming\\nltk_data...\n",
      "[nltk_data]   Package vader_lexicon is already up-to-date!\n"
     ]
    },
    {
     "data": {
      "text/plain": [
       "True"
      ]
     },
     "execution_count": 3,
     "metadata": {},
     "output_type": "execute_result"
    }
   ],
   "source": [
    "import praw\n",
    "import alpaca_trade_api\n",
    "import pandas\n",
    "from datetime import datetime, timedelta\n",
    "import time\n",
    "import re\n",
    "import nltk\n",
    "from nltk.sentiment.vader import SentimentIntensityAnalyzer\n",
    "nltk.download('vader_lexicon')"
   ]
  },
  {
   "cell_type": "code",
   "execution_count": null,
   "id": "03bf811f-3453-47df-953b-e6c1d60dfff3",
   "metadata": {},
   "outputs": [],
   "source": [
    "# Initialize Reddit API\n",
    "reddit = praw.Reddit(\n",
    "    client_id=REDDIT_CLIENT_ID,\n",
    "    client_secret=REDDIT_CLIENT_SECRET,\n",
    "    user_agent=REDDIT_USER_AGENT\n",
    ")\n",
    "\n",
    "# Initialize Alpaca API\n",
    "alpaca = alpaca_trade_api.REST(ALPACA_API_KEY, ALPACA_API_SECRET, ALPACA_BASE_URL, api_version='v2')"
   ]
  },
  {
   "cell_type": "code",
   "execution_count": 6,
   "id": "95550b97-42d0-425a-9819-616e287c1258",
   "metadata": {},
   "outputs": [],
   "source": [
    "# Function to clean text for sentiment analysis\n",
    "def clean_text(text):\n",
    "    text = re.sub(r'http\\S+', '', text)  # Remove URLs\n",
    "    return text.strip()"
   ]
  },
  {
   "cell_type": "code",
   "execution_count": 19,
   "id": "7e00f416-7041-482e-bcc3-27e2429f6412",
   "metadata": {},
   "outputs": [],
   "source": [
    "# Function to get sentiment from r/WallStreetBets\n",
    "def get_reddit_sentiment():\n",
    "    subreddit = reddit.subreddit('wallstreetbets')\n",
    "    posts = subreddit.hot(limit=100)\n",
    "    sentiment_scores = {}\n",
    "    post_count = {}\n",
    "\n",
    "    # Time filter: only posts from the last `hours`\n",
    "    time_threshold = datetime.utcnow() - timedelta(hours=24)\n",
    "    count = 0\n",
    "    for post in posts:\n",
    "        if post.link_flair_text == \"DD\":\n",
    "            post_time = datetime.fromtimestamp(post.created_utc)\n",
    "            count += 1\n",
    "            if post_time < time_threshold:\n",
    "                continue\n",
    "    \n",
    "            # Extract stock tickers (simple regex for uppercase words, e.g., TSLA, GME)\n",
    "            \n",
    "            # print(\"not clean\")\n",
    "            # print(post.title + \" | \" + post.selftext)\n",
    "            \n",
    "            text = clean_text(post.title + ' ' + post.selftext)\n",
    "            \n",
    "            # print(\"clean text\")\n",
    "            # print(text)\n",
    "            \n",
    "            tickers = set(ticker for ticker in re.findall(r'(?:\\$)?\\b(?!YOLO\\b|GAINS\\b|HODL\\b|ITM\\b|OTM\\b|PAID\\b|DD\\b|WSB\\b|ALSO\\b|EPS\\b|AI\\b|CEO\\b|ARR\\b)[A-Z]{2,5}\\b', text)) # Match 2-5 letter tickers\n",
    "    \n",
    "            lowText = text.lower()\n",
    "            \n",
    "            # Update the lexicon with your custom words\n",
    "            analyzer = SentimentIntensityAnalyzer()\n",
    "            custom_words = {\n",
    "                'no plans on selling': 2.0,\n",
    "                'to the moon': 2.0,\n",
    "                'puts': -2.0,\n",
    "                'calls': 2.0,\n",
    "                'put': -2.0,\n",
    "                'call': 2.0\n",
    "                # Add more words as needed\n",
    "            }\n",
    "            analyzer.lexicon.update(custom_words)\n",
    "    \n",
    "            # Perform sentiment analysis\n",
    "            sentiment = analyzer.polarity_scores(lowText)\n",
    "            compound_score = sentiment['compound']\n",
    "            print(text + \"score: \" + str(compound_score));\n",
    "            print(\"______________\")\n",
    "    \n",
    "            for ticker in tickers:\n",
    "                if ticker not in sentiment_scores:\n",
    "                    sentiment_scores[ticker] = 0\n",
    "                    post_count[ticker] = 0\n",
    "                sentiment_scores[ticker] += compound_score\n",
    "                post_count[ticker] += 1\n",
    "\n",
    "    # Average sentiment scores\n",
    "    avg_sentiment = {ticker.replace('$', ''): sentiment_scores[ticker] / post_count[ticker] for ticker in sentiment_scores if post_count[ticker] > 0}\n",
    "        \n",
    "    return avg_sentiment"
   ]
  },
  {
   "cell_type": "code",
   "execution_count": 20,
   "id": "b5c64eb3-35b0-459c-9234-fc6d21dea883",
   "metadata": {},
   "outputs": [
    {
     "name": "stderr",
     "output_type": "stream",
     "text": [
      "C:\\Users\\mikey\\AppData\\Local\\Temp\\ipykernel_5908\\3994822610.py:9: DeprecationWarning: datetime.datetime.utcnow() is deprecated and scheduled for removal in a future version. Use timezone-aware objects to represent datetimes in UTC: datetime.datetime.now(datetime.UTC).\n",
      "  time_threshold = datetime.utcnow() - timedelta(hours=24)\n"
     ]
    },
    {
     "name": "stdout",
     "output_type": "stream",
     "text": [
      "🐻🌈 - Shorting Banks into Rate Cuts - NFP Gains & Trade Idea After making a quick 40% shorting XLF into NFP this am — watching for a re-entry to short Financials today near close. $BK will watch at close and look for a 105 (needs to stay under) re-enter and target the $100 puts two to three weeks out and will pull trigger if closing under $105. I’ll take the quick gains if they come next week and take the L if it breaks above $105 and holds. What did ppl expect at a 97% probability for rate cuts today 😂 3 more points?score: -0.3818\n",
      "______________\n",
      "An Actual DD into GLXY: A fundamentally good stock to buy for now and later. This DD was compiled using company financial data and qualitative analysis. I work in finance but not strictly in investment analysis, so I am not a professional.\n",
      "\n",
      " \n",
      "\n",
      "Fundamental and Macro Growth Factors for GLXY:\n",
      "\n",
      "* First-mover advantage + pure monopoly on equity tokenization:\n",
      "   * With Kraken, Ondo, Robinhood, etc., tokenized versions of stocks exist as synthetics or derivatives, so GLXY is undisputably first on tokenizing real shares. This is mostly a big deal for institutional investors with policies restricting derivative exposure, as GLXY tokens have full economic and legal rights including corporate actions, dividends, votes, and SEC compliance.\n",
      "* Adoption of tokenized equities *will concretely occur:*\n",
      "   * 24/7 trading, instant settlement, fractional ownership, lower fees, etc., are incredibly valuable, and it helps a lot that the current administration is being extremely crypto-friendly as it helps institutions move more quickly towards tokenized equity.\n",
      "   * Tokenized equities are estimated are projected to reach $190 trillion globally within 20 years.\n",
      "* Galaxy significantly outperformed the broader crypto market in Q2.\n",
      "   * GLXY stock fell 10% after Q2 earnings, which is mostly attributable to a 22% drop in digital asset trading volumes. However, industry-wide, crypto trading volume dropped 30%, which represents a massive out-performance by Galaxy.\n",
      "* Partnership with CoreWeave:\n",
      "   * Galaxy is diversifying away from purely crypto into AI infrastructure. Feel free to read about it [here]( but in short, they’re building a massive high-performance computing / AI data center campus called Helios in Texas. CoreWeave just exercised its option for the full 800 Megawatts of power, which Galaxy says will earn $1 billion annually.\n",
      "      * However, the full Helios center capacity is 3,500 MW, which (scaled linearly) represents $4.375 billion in annual revenue (completely ignoring their crypto business). This is an eye-popping amount of ARR given that Galaxy’s market cap is only $8.6 billion.\n",
      "* Interest rate tailwinds:\n",
      "   * Galaxy beat Q2 revenue estimates (even with lagging crypto trading volume) but missed on EPS. The Helios data campus was just financed with $350 million in equity and an additional $1.4 billion in debt. Interest rates coming down would be a huge tailwind for Galaxy as they can refinance their debt facility at lower rates, cutting costs and bolstering their bottom line.\n",
      "   * Finally, as the opportunity cost of holding most cryptocurrencies comes down, trading activity will increase.\n",
      "* [Analyst opinions](\n",
      "   * Analysts rate GLXY a consensus strong buy (12 analysts buy and 1 analyst hold) with a 12-month target of $36.67 (\\~60% upside from current \\~$23).\n",
      "\n",
      " \n",
      "\n",
      "One more factor for good luck:\n",
      "\n",
      "* Short-term boost:\n",
      "   * [It *just tokenized* its equity this week]( and this gives access to a whole new investor base of crypto natives. This might create a bit of short-term speculative demand, if the crypto-natives decide to treat GLXY like they treat cryptocurrencies.\n",
      "\n",
      " \n",
      "\n",
      "Overall, GLXY’s crypto business model makes a lot of sense, and their future data center revenue isn’t priced in at all. Risk factors like fluctuations in BTC price are primarily short-term, while growth factors are primarily long term. My positions are (by market value) 70% shares, 10% 9/26/25 $25 calls, and 20% 1/16/26 $35 calls. Dollar amount isn't a lot for WSB, but this represents \\~20% of my total liquid investment portfolio.\n",
      "\n",
      " \n",
      "\n",
      "ALSO:\n",
      "\n",
      " \n",
      "\n",
      "Right before I posted this, I stumbled upon a post by a user “Europe2016” in WSB from 2 months ago, also about GLXY. He brings up some really good points, such as the credentials and successes of the CEO, Mike Novogratz, Galaxy having the 7^(th) largest BTC treasury in the world, and a leak from twitter using satellite imagery suggesting that Galaxy is preparing for a Helios 2. Given that there is still no news coverage about this, it has not in any way been priced in.\n",
      "\n",
      " \n",
      "\n",
      "The volatility and downswing for GLXY in the last month is likely due to its correlation with BTC dropping from $125k to $110k. However, given that this will only be a small part of Galaxy’s business, and it is a temporary swing, now is a great buying opportunity.\n",
      "\n",
      " \n",
      "\n",
      "Best of luck to everyone!\n",
      "\n",
      "[My positions](score: 0.9983\n",
      "______________\n"
     ]
    },
    {
     "data": {
      "text/plain": [
       "{'NFP': -0.3818,\n",
       " 'BK': -0.3818,\n",
       " 'XLF': -0.3818,\n",
       " 'BTC': 0.9983,\n",
       " 'SEC': 0.9983,\n",
       " 'MW': 0.9983,\n",
       " 'GLXY': 0.9983}"
      ]
     },
     "execution_count": 20,
     "metadata": {},
     "output_type": "execute_result"
    }
   ],
   "source": [
    "get_reddit_sentiment()"
   ]
  },
  {
   "cell_type": "code",
   "execution_count": null,
   "id": "35cea104-f513-4cd9-9bf4-00c6c8dc7a56",
   "metadata": {},
   "outputs": [],
   "source": []
  }
 ],
 "metadata": {
  "kernelspec": {
   "display_name": "Python 3 (ipykernel)",
   "language": "python",
   "name": "python3"
  },
  "language_info": {
   "codemirror_mode": {
    "name": "ipython",
    "version": 3
   },
   "file_extension": ".py",
   "mimetype": "text/x-python",
   "name": "python",
   "nbconvert_exporter": "python",
   "pygments_lexer": "ipython3",
   "version": "3.13.7"
  }
 },
 "nbformat": 4,
 "nbformat_minor": 5
}
